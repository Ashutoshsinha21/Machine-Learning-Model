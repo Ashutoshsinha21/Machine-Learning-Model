{
 "cells": [
  {
   "cell_type": "markdown",
   "id": "ba9294ae",
   "metadata": {},
   "source": [
    "## Dragon Real Estate - Price Predictor"
   ]
  },
  {
   "cell_type": "code",
   "execution_count": 1,
   "id": "f6540d59",
   "metadata": {},
   "outputs": [],
   "source": [
    "import pandas as pd"
   ]
  },
  {
   "cell_type": "code",
   "execution_count": 2,
   "id": "eb06c030",
   "metadata": {},
   "outputs": [],
   "source": [
    "housing = pd.read_csv(\"data.csv\")"
   ]
  },
  {
   "cell_type": "code",
   "execution_count": 3,
   "id": "7ec720d8",
   "metadata": {},
   "outputs": [
    {
     "data": {
      "text/html": [
       "<div>\n",
       "<style scoped>\n",
       "    .dataframe tbody tr th:only-of-type {\n",
       "        vertical-align: middle;\n",
       "    }\n",
       "\n",
       "    .dataframe tbody tr th {\n",
       "        vertical-align: top;\n",
       "    }\n",
       "\n",
       "    .dataframe thead th {\n",
       "        text-align: right;\n",
       "    }\n",
       "</style>\n",
       "<table border=\"1\" class=\"dataframe\">\n",
       "  <thead>\n",
       "    <tr style=\"text-align: right;\">\n",
       "      <th></th>\n",
       "      <th>CRIM</th>\n",
       "      <th>ZN</th>\n",
       "      <th>INDUS</th>\n",
       "      <th>CHAS</th>\n",
       "      <th>NOX</th>\n",
       "      <th>RM</th>\n",
       "      <th>AGE</th>\n",
       "      <th>DIS</th>\n",
       "      <th>RAD</th>\n",
       "      <th>TAX</th>\n",
       "      <th>PTRATIO</th>\n",
       "      <th>B</th>\n",
       "      <th>LSTAT</th>\n",
       "      <th>MEDV</th>\n",
       "    </tr>\n",
       "  </thead>\n",
       "  <tbody>\n",
       "    <tr>\n",
       "      <th>0</th>\n",
       "      <td>1.15172</td>\n",
       "      <td>0.0</td>\n",
       "      <td>8.14</td>\n",
       "      <td>0</td>\n",
       "      <td>0.538</td>\n",
       "      <td>5.701</td>\n",
       "      <td>95.0</td>\n",
       "      <td>3.7872</td>\n",
       "      <td>4</td>\n",
       "      <td>307</td>\n",
       "      <td>21.0</td>\n",
       "      <td>358.77</td>\n",
       "      <td>18.35</td>\n",
       "      <td>13.1</td>\n",
       "    </tr>\n",
       "    <tr>\n",
       "      <th>1</th>\n",
       "      <td>1.61282</td>\n",
       "      <td>0.0</td>\n",
       "      <td>8.14</td>\n",
       "      <td>0</td>\n",
       "      <td>0.538</td>\n",
       "      <td>6.096</td>\n",
       "      <td>96.9</td>\n",
       "      <td>3.7598</td>\n",
       "      <td>4</td>\n",
       "      <td>307</td>\n",
       "      <td>21.0</td>\n",
       "      <td>248.31</td>\n",
       "      <td>20.34</td>\n",
       "      <td>13.5</td>\n",
       "    </tr>\n",
       "    <tr>\n",
       "      <th>2</th>\n",
       "      <td>0.06417</td>\n",
       "      <td>0.0</td>\n",
       "      <td>5.96</td>\n",
       "      <td>0</td>\n",
       "      <td>0.499</td>\n",
       "      <td>5.933</td>\n",
       "      <td>68.2</td>\n",
       "      <td>3.3603</td>\n",
       "      <td>5</td>\n",
       "      <td>279</td>\n",
       "      <td>19.2</td>\n",
       "      <td>396.90</td>\n",
       "      <td>9.68</td>\n",
       "      <td>18.9</td>\n",
       "    </tr>\n",
       "    <tr>\n",
       "      <th>3</th>\n",
       "      <td>0.09744</td>\n",
       "      <td>0.0</td>\n",
       "      <td>5.96</td>\n",
       "      <td>0</td>\n",
       "      <td>0.499</td>\n",
       "      <td>5.841</td>\n",
       "      <td>61.4</td>\n",
       "      <td>3.3779</td>\n",
       "      <td>5</td>\n",
       "      <td>279</td>\n",
       "      <td>19.2</td>\n",
       "      <td>377.56</td>\n",
       "      <td>11.41</td>\n",
       "      <td>20.0</td>\n",
       "    </tr>\n",
       "    <tr>\n",
       "      <th>4</th>\n",
       "      <td>0.08014</td>\n",
       "      <td>0.0</td>\n",
       "      <td>5.96</td>\n",
       "      <td>0</td>\n",
       "      <td>0.499</td>\n",
       "      <td>5.850</td>\n",
       "      <td>41.5</td>\n",
       "      <td>3.9342</td>\n",
       "      <td>5</td>\n",
       "      <td>279</td>\n",
       "      <td>19.2</td>\n",
       "      <td>396.90</td>\n",
       "      <td>8.77</td>\n",
       "      <td>21.0</td>\n",
       "    </tr>\n",
       "  </tbody>\n",
       "</table>\n",
       "</div>"
      ],
      "text/plain": [
       "      CRIM   ZN  INDUS  CHAS    NOX     RM   AGE     DIS  RAD  TAX  PTRATIO  \\\n",
       "0  1.15172  0.0   8.14     0  0.538  5.701  95.0  3.7872    4  307     21.0   \n",
       "1  1.61282  0.0   8.14     0  0.538  6.096  96.9  3.7598    4  307     21.0   \n",
       "2  0.06417  0.0   5.96     0  0.499  5.933  68.2  3.3603    5  279     19.2   \n",
       "3  0.09744  0.0   5.96     0  0.499  5.841  61.4  3.3779    5  279     19.2   \n",
       "4  0.08014  0.0   5.96     0  0.499  5.850  41.5  3.9342    5  279     19.2   \n",
       "\n",
       "        B  LSTAT  MEDV  \n",
       "0  358.77  18.35  13.1  \n",
       "1  248.31  20.34  13.5  \n",
       "2  396.90   9.68  18.9  \n",
       "3  377.56  11.41  20.0  \n",
       "4  396.90   8.77  21.0  "
      ]
     },
     "execution_count": 3,
     "metadata": {},
     "output_type": "execute_result"
    }
   ],
   "source": [
    "housing.head()"
   ]
  },
  {
   "cell_type": "code",
   "execution_count": 4,
   "id": "f568a177",
   "metadata": {},
   "outputs": [
    {
     "name": "stdout",
     "output_type": "stream",
     "text": [
      "<class 'pandas.core.frame.DataFrame'>\n",
      "RangeIndex: 473 entries, 0 to 472\n",
      "Data columns (total 14 columns):\n",
      " #   Column   Non-Null Count  Dtype  \n",
      "---  ------   --------------  -----  \n",
      " 0   CRIM     473 non-null    float64\n",
      " 1   ZN       473 non-null    float64\n",
      " 2   INDUS    473 non-null    float64\n",
      " 3   CHAS     473 non-null    int64  \n",
      " 4   NOX      473 non-null    float64\n",
      " 5   RM       471 non-null    float64\n",
      " 6   AGE      473 non-null    float64\n",
      " 7   DIS      473 non-null    float64\n",
      " 8   RAD      473 non-null    int64  \n",
      " 9   TAX      473 non-null    int64  \n",
      " 10  PTRATIO  473 non-null    float64\n",
      " 11  B        473 non-null    float64\n",
      " 12  LSTAT    473 non-null    float64\n",
      " 13  MEDV     473 non-null    float64\n",
      "dtypes: float64(11), int64(3)\n",
      "memory usage: 51.9 KB\n"
     ]
    }
   ],
   "source": [
    "housing.info()"
   ]
  },
  {
   "cell_type": "code",
   "execution_count": 5,
   "id": "22722d11",
   "metadata": {},
   "outputs": [
    {
     "data": {
      "text/plain": [
       "0      0\n",
       "1      0\n",
       "2      0\n",
       "3      0\n",
       "4      0\n",
       "      ..\n",
       "468    0\n",
       "469    0\n",
       "470    0\n",
       "471    0\n",
       "472    0\n",
       "Name: CHAS, Length: 473, dtype: int64"
      ]
     },
     "execution_count": 5,
     "metadata": {},
     "output_type": "execute_result"
    }
   ],
   "source": [
    "housing['CHAS']"
   ]
  },
  {
   "cell_type": "code",
   "execution_count": 6,
   "id": "f69634f4",
   "metadata": {},
   "outputs": [
    {
     "data": {
      "text/plain": [
       "0    438\n",
       "1     35\n",
       "Name: CHAS, dtype: int64"
      ]
     },
     "execution_count": 6,
     "metadata": {},
     "output_type": "execute_result"
    }
   ],
   "source": [
    "housing['CHAS'].value_counts()"
   ]
  },
  {
   "cell_type": "code",
   "execution_count": 7,
   "id": "bfdd17a1",
   "metadata": {},
   "outputs": [
    {
     "data": {
      "text/html": [
       "<div>\n",
       "<style scoped>\n",
       "    .dataframe tbody tr th:only-of-type {\n",
       "        vertical-align: middle;\n",
       "    }\n",
       "\n",
       "    .dataframe tbody tr th {\n",
       "        vertical-align: top;\n",
       "    }\n",
       "\n",
       "    .dataframe thead th {\n",
       "        text-align: right;\n",
       "    }\n",
       "</style>\n",
       "<table border=\"1\" class=\"dataframe\">\n",
       "  <thead>\n",
       "    <tr style=\"text-align: right;\">\n",
       "      <th></th>\n",
       "      <th>CRIM</th>\n",
       "      <th>ZN</th>\n",
       "      <th>INDUS</th>\n",
       "      <th>CHAS</th>\n",
       "      <th>NOX</th>\n",
       "      <th>RM</th>\n",
       "      <th>AGE</th>\n",
       "      <th>DIS</th>\n",
       "      <th>RAD</th>\n",
       "      <th>TAX</th>\n",
       "      <th>PTRATIO</th>\n",
       "      <th>B</th>\n",
       "      <th>LSTAT</th>\n",
       "      <th>MEDV</th>\n",
       "    </tr>\n",
       "  </thead>\n",
       "  <tbody>\n",
       "    <tr>\n",
       "      <th>count</th>\n",
       "      <td>473.000000</td>\n",
       "      <td>473.000000</td>\n",
       "      <td>473.000000</td>\n",
       "      <td>473.000000</td>\n",
       "      <td>473.000000</td>\n",
       "      <td>471.000000</td>\n",
       "      <td>473.000000</td>\n",
       "      <td>473.000000</td>\n",
       "      <td>473.000000</td>\n",
       "      <td>473.000000</td>\n",
       "      <td>473.000000</td>\n",
       "      <td>473.000000</td>\n",
       "      <td>473.000000</td>\n",
       "      <td>473.000000</td>\n",
       "    </tr>\n",
       "    <tr>\n",
       "      <th>mean</th>\n",
       "      <td>3.823988</td>\n",
       "      <td>11.933404</td>\n",
       "      <td>11.404503</td>\n",
       "      <td>0.073996</td>\n",
       "      <td>0.556866</td>\n",
       "      <td>6.296964</td>\n",
       "      <td>67.980127</td>\n",
       "      <td>3.722812</td>\n",
       "      <td>9.942918</td>\n",
       "      <td>416.078224</td>\n",
       "      <td>18.404017</td>\n",
       "      <td>355.293277</td>\n",
       "      <td>12.568901</td>\n",
       "      <td>22.708034</td>\n",
       "    </tr>\n",
       "    <tr>\n",
       "      <th>std</th>\n",
       "      <td>8.858034</td>\n",
       "      <td>23.972669</td>\n",
       "      <td>6.999949</td>\n",
       "      <td>0.262041</td>\n",
       "      <td>0.119352</td>\n",
       "      <td>0.717742</td>\n",
       "      <td>28.542288</td>\n",
       "      <td>2.147522</td>\n",
       "      <td>8.870234</td>\n",
       "      <td>171.436096</td>\n",
       "      <td>2.134762</td>\n",
       "      <td>93.763654</td>\n",
       "      <td>7.181335</td>\n",
       "      <td>9.353513</td>\n",
       "    </tr>\n",
       "    <tr>\n",
       "      <th>min</th>\n",
       "      <td>0.009060</td>\n",
       "      <td>0.000000</td>\n",
       "      <td>0.460000</td>\n",
       "      <td>0.000000</td>\n",
       "      <td>0.385000</td>\n",
       "      <td>3.561000</td>\n",
       "      <td>2.900000</td>\n",
       "      <td>1.129600</td>\n",
       "      <td>1.000000</td>\n",
       "      <td>187.000000</td>\n",
       "      <td>12.600000</td>\n",
       "      <td>0.320000</td>\n",
       "      <td>1.730000</td>\n",
       "      <td>5.000000</td>\n",
       "    </tr>\n",
       "    <tr>\n",
       "      <th>25%</th>\n",
       "      <td>0.080140</td>\n",
       "      <td>0.000000</td>\n",
       "      <td>5.130000</td>\n",
       "      <td>0.000000</td>\n",
       "      <td>0.448000</td>\n",
       "      <td>5.886000</td>\n",
       "      <td>42.600000</td>\n",
       "      <td>2.045900</td>\n",
       "      <td>4.000000</td>\n",
       "      <td>277.000000</td>\n",
       "      <td>17.400000</td>\n",
       "      <td>374.710000</td>\n",
       "      <td>6.900000</td>\n",
       "      <td>17.200000</td>\n",
       "    </tr>\n",
       "    <tr>\n",
       "      <th>50%</th>\n",
       "      <td>0.249800</td>\n",
       "      <td>0.000000</td>\n",
       "      <td>9.900000</td>\n",
       "      <td>0.000000</td>\n",
       "      <td>0.532000</td>\n",
       "      <td>6.223000</td>\n",
       "      <td>76.700000</td>\n",
       "      <td>2.908400</td>\n",
       "      <td>5.000000</td>\n",
       "      <td>352.000000</td>\n",
       "      <td>19.000000</td>\n",
       "      <td>391.450000</td>\n",
       "      <td>11.100000</td>\n",
       "      <td>21.400000</td>\n",
       "    </tr>\n",
       "    <tr>\n",
       "      <th>75%</th>\n",
       "      <td>4.222390</td>\n",
       "      <td>20.000000</td>\n",
       "      <td>18.100000</td>\n",
       "      <td>0.000000</td>\n",
       "      <td>0.647000</td>\n",
       "      <td>6.633000</td>\n",
       "      <td>94.000000</td>\n",
       "      <td>5.118000</td>\n",
       "      <td>24.000000</td>\n",
       "      <td>666.000000</td>\n",
       "      <td>20.200000</td>\n",
       "      <td>396.240000</td>\n",
       "      <td>16.900000</td>\n",
       "      <td>25.100000</td>\n",
       "    </tr>\n",
       "    <tr>\n",
       "      <th>max</th>\n",
       "      <td>88.976200</td>\n",
       "      <td>100.000000</td>\n",
       "      <td>27.740000</td>\n",
       "      <td>1.000000</td>\n",
       "      <td>0.871000</td>\n",
       "      <td>8.780000</td>\n",
       "      <td>100.000000</td>\n",
       "      <td>12.126500</td>\n",
       "      <td>24.000000</td>\n",
       "      <td>711.000000</td>\n",
       "      <td>22.000000</td>\n",
       "      <td>396.900000</td>\n",
       "      <td>37.970000</td>\n",
       "      <td>50.000000</td>\n",
       "    </tr>\n",
       "  </tbody>\n",
       "</table>\n",
       "</div>"
      ],
      "text/plain": [
       "             CRIM          ZN       INDUS        CHAS         NOX          RM  \\\n",
       "count  473.000000  473.000000  473.000000  473.000000  473.000000  471.000000   \n",
       "mean     3.823988   11.933404   11.404503    0.073996    0.556866    6.296964   \n",
       "std      8.858034   23.972669    6.999949    0.262041    0.119352    0.717742   \n",
       "min      0.009060    0.000000    0.460000    0.000000    0.385000    3.561000   \n",
       "25%      0.080140    0.000000    5.130000    0.000000    0.448000    5.886000   \n",
       "50%      0.249800    0.000000    9.900000    0.000000    0.532000    6.223000   \n",
       "75%      4.222390   20.000000   18.100000    0.000000    0.647000    6.633000   \n",
       "max     88.976200  100.000000   27.740000    1.000000    0.871000    8.780000   \n",
       "\n",
       "              AGE         DIS         RAD         TAX     PTRATIO           B  \\\n",
       "count  473.000000  473.000000  473.000000  473.000000  473.000000  473.000000   \n",
       "mean    67.980127    3.722812    9.942918  416.078224   18.404017  355.293277   \n",
       "std     28.542288    2.147522    8.870234  171.436096    2.134762   93.763654   \n",
       "min      2.900000    1.129600    1.000000  187.000000   12.600000    0.320000   \n",
       "25%     42.600000    2.045900    4.000000  277.000000   17.400000  374.710000   \n",
       "50%     76.700000    2.908400    5.000000  352.000000   19.000000  391.450000   \n",
       "75%     94.000000    5.118000   24.000000  666.000000   20.200000  396.240000   \n",
       "max    100.000000   12.126500   24.000000  711.000000   22.000000  396.900000   \n",
       "\n",
       "            LSTAT        MEDV  \n",
       "count  473.000000  473.000000  \n",
       "mean    12.568901   22.708034  \n",
       "std      7.181335    9.353513  \n",
       "min      1.730000    5.000000  \n",
       "25%      6.900000   17.200000  \n",
       "50%     11.100000   21.400000  \n",
       "75%     16.900000   25.100000  \n",
       "max     37.970000   50.000000  "
      ]
     },
     "execution_count": 7,
     "metadata": {},
     "output_type": "execute_result"
    }
   ],
   "source": [
    "housing.describe()"
   ]
  },
  {
   "cell_type": "code",
   "execution_count": 8,
   "id": "c425ec32",
   "metadata": {},
   "outputs": [],
   "source": [
    "%matplotlib inline"
   ]
  },
  {
   "cell_type": "code",
   "execution_count": 9,
   "id": "2bbfe511",
   "metadata": {},
   "outputs": [],
   "source": [
    "import matplotlib.pyplot as plt"
   ]
  },
  {
   "cell_type": "code",
   "execution_count": 10,
   "id": "99470b8c",
   "metadata": {},
   "outputs": [
    {
     "data": {
      "text/plain": [
       "array([[<AxesSubplot:title={'center':'CRIM'}>,\n",
       "        <AxesSubplot:title={'center':'ZN'}>,\n",
       "        <AxesSubplot:title={'center':'INDUS'}>,\n",
       "        <AxesSubplot:title={'center':'CHAS'}>],\n",
       "       [<AxesSubplot:title={'center':'NOX'}>,\n",
       "        <AxesSubplot:title={'center':'RM'}>,\n",
       "        <AxesSubplot:title={'center':'AGE'}>,\n",
       "        <AxesSubplot:title={'center':'DIS'}>],\n",
       "       [<AxesSubplot:title={'center':'RAD'}>,\n",
       "        <AxesSubplot:title={'center':'TAX'}>,\n",
       "        <AxesSubplot:title={'center':'PTRATIO'}>,\n",
       "        <AxesSubplot:title={'center':'B'}>],\n",
       "       [<AxesSubplot:title={'center':'LSTAT'}>,\n",
       "        <AxesSubplot:title={'center':'MEDV'}>, <AxesSubplot:>,\n",
       "        <AxesSubplot:>]], dtype=object)"
      ]
     },
     "execution_count": 10,
     "metadata": {},
     "output_type": "execute_result"
    },
    {
     "data": {
      "image/png": "[encoded data removed]",
      "text/plain": [
       "<Figure size 1440x1080 with 16 Axes>"
      ]
     },
     "metadata": {
      "needs_background": "light"
     },
     "output_type": "display_data"
    }
   ],
   "source": [
    "housing.hist(bins=50, figsize=(20,15))"
   ]
  },
  {
   "cell_type": "markdown",
   "id": "e7edc517",
   "metadata": {},
   "source": [
    "## Train-Test splitting"
   ]
  },
  {
   "cell_type": "code",
   "execution_count": 11,
   "id": "4d6e7381",
   "metadata": {},
   "outputs": [],
   "source": [
    "import numpy as np"
   ]
  },
  {
   "cell_type": "code",
   "execution_count": 12,
   "id": "c79f195a",
   "metadata": {},
   "outputs": [],
   "source": [
    "#def split_train_test(data, test_ratio):\n",
    "   # shuffled=np.random.permutation(len(data))\n",
    "   # test_set_size=int(len(data) * test_ratio)\n",
    "   # test_indices=shuffled[:test_set_size]\n",
    "   # train_indices=shuffled[test_set_size:]\n",
    "   # return data.iloc[train_indices], data.iloc[test_indices]\n",
    "    "
   ]
  },
  {
   "cell_type": "code",
   "execution_count": 13,
   "id": "86686b4d",
   "metadata": {},
   "outputs": [],
   "source": [
    "#train_set, test_set= split_train_test(housing, 0.2)"
   ]
  },
  {
   "cell_type": "code",
   "execution_count": 14,
   "id": "14909a2e",
   "metadata": {},
   "outputs": [],
   "source": [
    "#print(f\"Rows in train set: {len(train_set)}\\nRows in test set: {len(test_set)}\\n\")"
   ]
  },
  {
   "cell_type": "code",
   "execution_count": 15,
   "id": "ffb689b9",
   "metadata": {},
   "outputs": [
    {
     "name": "stdout",
     "output_type": "stream",
     "text": [
      "Rows in train set: 378\n",
      "Rows in test set: 95\n",
      "\n"
     ]
    }
   ],
   "source": [
    "from sklearn.model_selection import train_test_split\n",
    "train_set, test_set= train_test_split(housing, test_size=0.2, random_state=42)\n",
    "print(f\"Rows in train set: {len(train_set)}\\nRows in test set: {len(test_set)}\\n\")"
   ]
  },
  {
   "cell_type": "code",
   "execution_count": 16,
   "id": "eb305870",
   "metadata": {},
   "outputs": [],
   "source": [
    "from sklearn.model_selection import StratifiedShuffleSplit\n",
    "split=StratifiedShuffleSplit(n_splits=1, test_size=0.2,random_state=42)\n",
    "for train_index, test_index in split.split(housing, housing['CHAS']):\n",
    "    strat_train_set=housing.loc[train_index]\n",
    "    strat_test_set=housing.loc[test_index]"
   ]
  },
  {
   "cell_type": "code",
   "execution_count": 17,
   "id": "075b80d6",
   "metadata": {},
   "outputs": [
    {
     "data": {
      "text/plain": [
       "0    88\n",
       "1     7\n",
       "Name: CHAS, dtype: int64"
      ]
     },
     "execution_count": 17,
     "metadata": {},
     "output_type": "execute_result"
    }
   ],
   "source": [
    "strat_test_set['CHAS'].value_counts()"
   ]
  },
  {
   "cell_type": "code",
   "execution_count": 18,
   "id": "13c2c55f",
   "metadata": {},
   "outputs": [
    {
     "data": {
      "text/plain": [
       "0    350\n",
       "1     28\n",
       "Name: CHAS, dtype: int64"
      ]
     },
     "execution_count": 18,
     "metadata": {},
     "output_type": "execute_result"
    }
   ],
   "source": [
    "strat_train_set['CHAS'].value_counts()"
   ]
  },
  {
   "cell_type": "code",
   "execution_count": 19,
   "id": "62cdb25c",
   "metadata": {},
   "outputs": [
    {
     "data": {
      "text/plain": [
       "12.571428571428571"
      ]
     },
     "execution_count": 19,
     "metadata": {},
     "output_type": "execute_result"
    }
   ],
   "source": [
    "88/7"
   ]
  },
  {
   "cell_type": "code",
   "execution_count": 20,
   "id": "aec7e91e",
   "metadata": {},
   "outputs": [
    {
     "data": {
      "text/plain": [
       "12.5"
      ]
     },
     "execution_count": 20,
     "metadata": {},
     "output_type": "execute_result"
    }
   ],
   "source": [
    "350/28"
   ]
  },
  {
   "cell_type": "markdown",
   "id": "7c3f13cb",
   "metadata": {},
   "source": [
    "## Looking for Correlation\n"
   ]
  },
  {
   "cell_type": "code",
   "execution_count": 21,
   "id": "a3b6213b",
   "metadata": {},
   "outputs": [],
   "source": [
    "corr_matrix= housing.corr()"
   ]
  },
  {
   "cell_type": "code",
   "execution_count": 22,
   "id": "1afb47b7",
   "metadata": {},
   "outputs": [
    {
     "data": {
      "text/plain": [
       "MEDV       1.000000\n",
       "RM         0.691954\n",
       "ZN         0.361293\n",
       "B          0.339223\n",
       "DIS        0.259029\n",
       "CHAS       0.173415\n",
       "AGE       -0.365947\n",
       "CRIM      -0.401971\n",
       "RAD       -0.404784\n",
       "NOX       -0.433747\n",
       "TAX       -0.491998\n",
       "INDUS     -0.501057\n",
       "PTRATIO   -0.517029\n",
       "LSTAT     -0.739222\n",
       "Name: MEDV, dtype: float64"
      ]
     },
     "execution_count": 22,
     "metadata": {},
     "output_type": "execute_result"
    }
   ],
   "source": [
    "corr_matrix['MEDV'].sort_values(ascending=False)"
   ]
  },
  {
   "cell_type": "code",
   "execution_count": 23,
   "id": "1bd46248",
   "metadata": {},
   "outputs": [
    {
     "data": {
      "text/plain": [
       "array([[<AxesSubplot:xlabel='MEDV', ylabel='MEDV'>,\n",
       "        <AxesSubplot:xlabel='RM', ylabel='MEDV'>,\n",
       "        <AxesSubplot:xlabel='ZN', ylabel='MEDV'>,\n",
       "        <AxesSubplot:xlabel='LSTAT', ylabel='MEDV'>],\n",
       "       [<AxesSubplot:xlabel='MEDV', ylabel='RM'>,\n",
       "        <AxesSubplot:xlabel='RM', ylabel='RM'>,\n",
       "        <AxesSubplot:xlabel='ZN', ylabel='RM'>,\n",
       "        <AxesSubplot:xlabel='LSTAT', ylabel='RM'>],\n",
       "       [<AxesSubplot:xlabel='MEDV', ylabel='ZN'>,\n",
       "        <AxesSubplot:xlabel='RM', ylabel='ZN'>,\n",
       "        <AxesSubplot:xlabel='ZN', ylabel='ZN'>,\n",
       "        <AxesSubplot:xlabel='LSTAT', ylabel='ZN'>],\n",
       "       [<AxesSubplot:xlabel='MEDV', ylabel='LSTAT'>,\n",
       "        <AxesSubplot:xlabel='RM', ylabel='LSTAT'>,\n",
       "        <AxesSubplot:xlabel='ZN', ylabel='LSTAT'>,\n",
       "        <AxesSubplot:xlabel='LSTAT', ylabel='LSTAT'>]], dtype=object)"
      ]
     },
     "execution_count": 23,
     "metadata": {},
     "output_type": "execute_result"
    },
    {
     "data": {
      "image/png": "[encoded data removed]",
      "text/plain": [
       "<Figure size 864x576 with 16 Axes>"
      ]
     },
     "metadata": {
      "needs_background": "light"
     },
     "output_type": "display_data"
    }
   ],
   "source": [
    "from pandas.plotting import scatter_matrix\n",
    "attributes= ['MEDV','RM','ZN','LSTAT']\n",
    "scatter_matrix(housing[attributes], figsize=(12,8))"
   ]
  },
  {
   "cell_type": "code",
   "execution_count": 24,
   "id": "f24bba6a",
   "metadata": {},
   "outputs": [
    {
     "data": {
      "text/plain": [
       "<AxesSubplot:xlabel='RM', ylabel='MEDV'>"
      ]
     },
     "execution_count": 24,
     "metadata": {},
     "output_type": "execute_result"
    },
    {
     "data": {
      "image/png": "[encoded data removed]",
      "text/plain": [
       "<Figure size 432x288 with 1 Axes>"
      ]
     },
     "metadata": {
      "needs_background": "light"
     },
     "output_type": "display_data"
    }
   ],
   "source": [
    "housing.plot(kind=\"scatter\",x=\"RM\",y=\"MEDV\",alpha=0.8)"
   ]
  },
  {
   "cell_type": "code",
   "execution_count": 25,
   "id": "23f5cb73",
   "metadata": {},
   "outputs": [],
   "source": [
    "housing['TAXRM']= housing['TAX']/housing['RM']"
   ]
  },
  {
   "cell_type": "code",
   "execution_count": 26,
   "id": "107f889f",
   "metadata": {},
   "outputs": [
    {
     "data": {
      "text/html": [
       "<div>\n",
       "<style scoped>\n",
       "    .dataframe tbody tr th:only-of-type {\n",
       "        vertical-align: middle;\n",
       "    }\n",
       "\n",
       "    .dataframe tbody tr th {\n",
       "        vertical-align: top;\n",
       "    }\n",
       "\n",
       "    .dataframe thead th {\n",
       "        text-align: right;\n",
       "    }\n",
       "</style>\n",
       "<table border=\"1\" class=\"dataframe\">\n",
       "  <thead>\n",
       "    <tr style=\"text-align: right;\">\n",
       "      <th></th>\n",
       "      <th>CRIM</th>\n",
       "      <th>ZN</th>\n",
       "      <th>INDUS</th>\n",
       "      <th>CHAS</th>\n",
       "      <th>NOX</th>\n",
       "      <th>RM</th>\n",
       "      <th>AGE</th>\n",
       "      <th>DIS</th>\n",
       "      <th>RAD</th>\n",
       "      <th>TAX</th>\n",
       "      <th>PTRATIO</th>\n",
       "      <th>B</th>\n",
       "      <th>LSTAT</th>\n",
       "      <th>MEDV</th>\n",
       "      <th>TAXRM</th>\n",
       "    </tr>\n",
       "  </thead>\n",
       "  <tbody>\n",
       "    <tr>\n",
       "      <th>0</th>\n",
       "      <td>1.15172</td>\n",
       "      <td>0.0</td>\n",
       "      <td>8.14</td>\n",
       "      <td>0</td>\n",
       "      <td>0.538</td>\n",
       "      <td>5.701</td>\n",
       "      <td>95.0</td>\n",
       "      <td>3.7872</td>\n",
       "      <td>4</td>\n",
       "      <td>307</td>\n",
       "      <td>21.0</td>\n",
       "      <td>358.77</td>\n",
       "      <td>18.35</td>\n",
       "      <td>13.1</td>\n",
       "      <td>53.850202</td>\n",
       "    </tr>\n",
       "    <tr>\n",
       "      <th>1</th>\n",
       "      <td>1.61282</td>\n",
       "      <td>0.0</td>\n",
       "      <td>8.14</td>\n",
       "      <td>0</td>\n",
       "      <td>0.538</td>\n",
       "      <td>6.096</td>\n",
       "      <td>96.9</td>\n",
       "      <td>3.7598</td>\n",
       "      <td>4</td>\n",
       "      <td>307</td>\n",
       "      <td>21.0</td>\n",
       "      <td>248.31</td>\n",
       "      <td>20.34</td>\n",
       "      <td>13.5</td>\n",
       "      <td>50.360892</td>\n",
       "    </tr>\n",
       "    <tr>\n",
       "      <th>2</th>\n",
       "      <td>0.06417</td>\n",
       "      <td>0.0</td>\n",
       "      <td>5.96</td>\n",
       "      <td>0</td>\n",
       "      <td>0.499</td>\n",
       "      <td>5.933</td>\n",
       "      <td>68.2</td>\n",
       "      <td>3.3603</td>\n",
       "      <td>5</td>\n",
       "      <td>279</td>\n",
       "      <td>19.2</td>\n",
       "      <td>396.90</td>\n",
       "      <td>9.68</td>\n",
       "      <td>18.9</td>\n",
       "      <td>47.025114</td>\n",
       "    </tr>\n",
       "    <tr>\n",
       "      <th>3</th>\n",
       "      <td>0.09744</td>\n",
       "      <td>0.0</td>\n",
       "      <td>5.96</td>\n",
       "      <td>0</td>\n",
       "      <td>0.499</td>\n",
       "      <td>5.841</td>\n",
       "      <td>61.4</td>\n",
       "      <td>3.3779</td>\n",
       "      <td>5</td>\n",
       "      <td>279</td>\n",
       "      <td>19.2</td>\n",
       "      <td>377.56</td>\n",
       "      <td>11.41</td>\n",
       "      <td>20.0</td>\n",
       "      <td>47.765794</td>\n",
       "    </tr>\n",
       "    <tr>\n",
       "      <th>4</th>\n",
       "      <td>0.08014</td>\n",
       "      <td>0.0</td>\n",
       "      <td>5.96</td>\n",
       "      <td>0</td>\n",
       "      <td>0.499</td>\n",
       "      <td>5.850</td>\n",
       "      <td>41.5</td>\n",
       "      <td>3.9342</td>\n",
       "      <td>5</td>\n",
       "      <td>279</td>\n",
       "      <td>19.2</td>\n",
       "      <td>396.90</td>\n",
       "      <td>8.77</td>\n",
       "      <td>21.0</td>\n",
       "      <td>47.692308</td>\n",
       "    </tr>\n",
       "  </tbody>\n",
       "</table>\n",
       "</div>"
      ],
      "text/plain": [
       "      CRIM   ZN  INDUS  CHAS    NOX     RM   AGE     DIS  RAD  TAX  PTRATIO  \\\n",
       "0  1.15172  0.0   8.14     0  0.538  5.701  95.0  3.7872    4  307     21.0   \n",
       "1  1.61282  0.0   8.14     0  0.538  6.096  96.9  3.7598    4  307     21.0   \n",
       "2  0.06417  0.0   5.96     0  0.499  5.933  68.2  3.3603    5  279     19.2   \n",
       "3  0.09744  0.0   5.96     0  0.499  5.841  61.4  3.3779    5  279     19.2   \n",
       "4  0.08014  0.0   5.96     0  0.499  5.850  41.5  3.9342    5  279     19.2   \n",
       "\n",
       "        B  LSTAT  MEDV      TAXRM  \n",
       "0  358.77  18.35  13.1  53.850202  \n",
       "1  248.31  20.34  13.5  50.360892  \n",
       "2  396.90   9.68  18.9  47.025114  \n",
       "3  377.56  11.41  20.0  47.765794  \n",
       "4  396.90   8.77  21.0  47.692308  "
      ]
     },
     "execution_count": 26,
     "metadata": {},
     "output_type": "execute_result"
    }
   ],
   "source": [
    "housing.head()"
   ]
  },
  {
   "cell_type": "code",
   "execution_count": 27,
   "id": "910d6175",
   "metadata": {},
   "outputs": [
    {
     "data": {
      "text/plain": [
       "MEDV       1.000000\n",
       "RM         0.691954\n",
       "ZN         0.361293\n",
       "B          0.339223\n",
       "DIS        0.259029\n",
       "CHAS       0.173415\n",
       "AGE       -0.365947\n",
       "CRIM      -0.401971\n",
       "RAD       -0.404784\n",
       "NOX       -0.433747\n",
       "TAX       -0.491998\n",
       "INDUS     -0.501057\n",
       "PTRATIO   -0.517029\n",
       "TAXRM     -0.559501\n",
       "LSTAT     -0.739222\n",
       "Name: MEDV, dtype: float64"
      ]
     },
     "execution_count": 27,
     "metadata": {},
     "output_type": "execute_result"
    }
   ],
   "source": [
    "corr_matrix=housing.corr()\n",
    "corr_matrix['MEDV'].sort_values(ascending=False)"
   ]
  },
  {
   "cell_type": "code",
   "execution_count": 28,
   "id": "53c427a9",
   "metadata": {},
   "outputs": [
    {
     "data": {
      "text/plain": [
       "<AxesSubplot:xlabel='TAXRM', ylabel='MEDV'>"
      ]
     },
     "execution_count": 28,
     "metadata": {},
     "output_type": "execute_result"
    },
    {
     "data": {
      "image/png": "[encoded data removed]",
      "text/plain": [
       "<Figure size 432x288 with 1 Axes>"
      ]
     },
     "metadata": {
      "needs_background": "light"
     },
     "output_type": "display_data"
    }
   ],
   "source": [
    "housing.plot(kind=\"scatter\",x=\"TAXRM\",y=\"MEDV\",alpha=0.8)"
   ]
  },
  {
   "cell_type": "code",
   "execution_count": 29,
   "id": "0d7bdbcc",
   "metadata": {},
   "outputs": [],
   "source": [
    "housing= strat_train_set.drop(\"MEDV\", axis=1)\n",
    "housing_labels= strat_train_set[\"MEDV\"].copy()"
   ]
  },
  {
   "cell_type": "markdown",
   "id": "285b5e6f",
   "metadata": {},
   "source": [
    "## Missing Attributes"
   ]
  },
  {
   "cell_type": "code",
   "execution_count": 30,
   "id": "34693f78",
   "metadata": {},
   "outputs": [],
   "source": [
    "# To take care of missing attributes, we have three options:\n",
    "    #1. Get rid of those imssing data points.\n",
    "    #2. Get rid of the whole attribute.\n",
    "    #3. Set the value to (0,mean or median)."
   ]
  },
  {
   "cell_type": "code",
   "execution_count": 31,
   "id": "b7c7a07c",
   "metadata": {},
   "outputs": [],
   "source": [
    "a = housing.dropna(subset=['RM']) # Option 1"
   ]
  },
  {
   "cell_type": "code",
   "execution_count": 32,
   "id": "f927cc59",
   "metadata": {},
   "outputs": [
    {
     "data": {
      "text/plain": [
       "(376, 13)"
      ]
     },
     "execution_count": 32,
     "metadata": {},
     "output_type": "execute_result"
    }
   ],
   "source": [
    "a.shape"
   ]
  },
  {
   "cell_type": "code",
   "execution_count": 33,
   "id": "f5558af1",
   "metadata": {},
   "outputs": [
    {
     "data": {
      "text/html": [
       "<div>\n",
       "<style scoped>\n",
       "    .dataframe tbody tr th:only-of-type {\n",
       "        vertical-align: middle;\n",
       "    }\n",
       "\n",
       "    .dataframe tbody tr th {\n",
       "        vertical-align: top;\n",
       "    }\n",
       "\n",
       "    .dataframe thead th {\n",
       "        text-align: right;\n",
       "    }\n",
       "</style>\n",
       "<table border=\"1\" class=\"dataframe\">\n",
       "  <thead>\n",
       "    <tr style=\"text-align: right;\">\n",
       "      <th></th>\n",
       "      <th>CRIM</th>\n",
       "      <th>ZN</th>\n",
       "      <th>INDUS</th>\n",
       "      <th>CHAS</th>\n",
       "      <th>NOX</th>\n",
       "      <th>AGE</th>\n",
       "      <th>DIS</th>\n",
       "      <th>RAD</th>\n",
       "      <th>TAX</th>\n",
       "      <th>PTRATIO</th>\n",
       "      <th>B</th>\n",
       "      <th>LSTAT</th>\n",
       "    </tr>\n",
       "  </thead>\n",
       "  <tbody>\n",
       "    <tr>\n",
       "      <th>153</th>\n",
       "      <td>0.05602</td>\n",
       "      <td>0.0</td>\n",
       "      <td>2.46</td>\n",
       "      <td>0</td>\n",
       "      <td>0.488</td>\n",
       "      <td>53.6</td>\n",
       "      <td>3.1992</td>\n",
       "      <td>3</td>\n",
       "      <td>193</td>\n",
       "      <td>17.8</td>\n",
       "      <td>392.63</td>\n",
       "      <td>4.45</td>\n",
       "    </tr>\n",
       "    <tr>\n",
       "      <th>259</th>\n",
       "      <td>0.03615</td>\n",
       "      <td>80.0</td>\n",
       "      <td>4.95</td>\n",
       "      <td>0</td>\n",
       "      <td>0.411</td>\n",
       "      <td>23.4</td>\n",
       "      <td>5.1167</td>\n",
       "      <td>4</td>\n",
       "      <td>245</td>\n",
       "      <td>19.2</td>\n",
       "      <td>396.90</td>\n",
       "      <td>4.70</td>\n",
       "    </tr>\n",
       "    <tr>\n",
       "      <th>272</th>\n",
       "      <td>0.05479</td>\n",
       "      <td>33.0</td>\n",
       "      <td>2.18</td>\n",
       "      <td>0</td>\n",
       "      <td>0.472</td>\n",
       "      <td>58.1</td>\n",
       "      <td>3.3700</td>\n",
       "      <td>7</td>\n",
       "      <td>222</td>\n",
       "      <td>18.4</td>\n",
       "      <td>393.36</td>\n",
       "      <td>8.93</td>\n",
       "    </tr>\n",
       "    <tr>\n",
       "      <th>321</th>\n",
       "      <td>0.04301</td>\n",
       "      <td>80.0</td>\n",
       "      <td>1.91</td>\n",
       "      <td>0</td>\n",
       "      <td>0.413</td>\n",
       "      <td>21.9</td>\n",
       "      <td>10.5857</td>\n",
       "      <td>4</td>\n",
       "      <td>334</td>\n",
       "      <td>22.0</td>\n",
       "      <td>382.80</td>\n",
       "      <td>8.05</td>\n",
       "    </tr>\n",
       "    <tr>\n",
       "      <th>447</th>\n",
       "      <td>5.82401</td>\n",
       "      <td>0.0</td>\n",
       "      <td>18.10</td>\n",
       "      <td>0</td>\n",
       "      <td>0.532</td>\n",
       "      <td>64.7</td>\n",
       "      <td>3.4242</td>\n",
       "      <td>24</td>\n",
       "      <td>666</td>\n",
       "      <td>20.2</td>\n",
       "      <td>396.90</td>\n",
       "      <td>10.74</td>\n",
       "    </tr>\n",
       "    <tr>\n",
       "      <th>...</th>\n",
       "      <td>...</td>\n",
       "      <td>...</td>\n",
       "      <td>...</td>\n",
       "      <td>...</td>\n",
       "      <td>...</td>\n",
       "      <td>...</td>\n",
       "      <td>...</td>\n",
       "      <td>...</td>\n",
       "      <td>...</td>\n",
       "      <td>...</td>\n",
       "      <td>...</td>\n",
       "      <td>...</td>\n",
       "    </tr>\n",
       "    <tr>\n",
       "      <th>197</th>\n",
       "      <td>0.53700</td>\n",
       "      <td>0.0</td>\n",
       "      <td>6.20</td>\n",
       "      <td>0</td>\n",
       "      <td>0.504</td>\n",
       "      <td>68.1</td>\n",
       "      <td>3.6715</td>\n",
       "      <td>8</td>\n",
       "      <td>307</td>\n",
       "      <td>17.4</td>\n",
       "      <td>378.35</td>\n",
       "      <td>11.65</td>\n",
       "    </tr>\n",
       "    <tr>\n",
       "      <th>254</th>\n",
       "      <td>0.03871</td>\n",
       "      <td>52.5</td>\n",
       "      <td>5.32</td>\n",
       "      <td>0</td>\n",
       "      <td>0.405</td>\n",
       "      <td>31.3</td>\n",
       "      <td>7.3172</td>\n",
       "      <td>6</td>\n",
       "      <td>293</td>\n",
       "      <td>16.6</td>\n",
       "      <td>396.90</td>\n",
       "      <td>7.14</td>\n",
       "    </tr>\n",
       "    <tr>\n",
       "      <th>466</th>\n",
       "      <td>0.17783</td>\n",
       "      <td>0.0</td>\n",
       "      <td>9.69</td>\n",
       "      <td>0</td>\n",
       "      <td>0.585</td>\n",
       "      <td>73.5</td>\n",
       "      <td>2.3999</td>\n",
       "      <td>6</td>\n",
       "      <td>391</td>\n",
       "      <td>19.2</td>\n",
       "      <td>395.77</td>\n",
       "      <td>15.10</td>\n",
       "    </tr>\n",
       "    <tr>\n",
       "      <th>38</th>\n",
       "      <td>0.15876</td>\n",
       "      <td>0.0</td>\n",
       "      <td>10.81</td>\n",
       "      <td>0</td>\n",
       "      <td>0.413</td>\n",
       "      <td>17.5</td>\n",
       "      <td>5.2873</td>\n",
       "      <td>4</td>\n",
       "      <td>305</td>\n",
       "      <td>19.2</td>\n",
       "      <td>376.94</td>\n",
       "      <td>9.88</td>\n",
       "    </tr>\n",
       "    <tr>\n",
       "      <th>452</th>\n",
       "      <td>3.67367</td>\n",
       "      <td>0.0</td>\n",
       "      <td>18.10</td>\n",
       "      <td>0</td>\n",
       "      <td>0.583</td>\n",
       "      <td>51.9</td>\n",
       "      <td>3.9917</td>\n",
       "      <td>24</td>\n",
       "      <td>666</td>\n",
       "      <td>20.2</td>\n",
       "      <td>388.62</td>\n",
       "      <td>10.58</td>\n",
       "    </tr>\n",
       "  </tbody>\n",
       "</table>\n",
       "<p>378 rows × 12 columns</p>\n",
       "</div>"
      ],
      "text/plain": [
       "        CRIM    ZN  INDUS  CHAS    NOX   AGE      DIS  RAD  TAX  PTRATIO  \\\n",
       "153  0.05602   0.0   2.46     0  0.488  53.6   3.1992    3  193     17.8   \n",
       "259  0.03615  80.0   4.95     0  0.411  23.4   5.1167    4  245     19.2   \n",
       "272  0.05479  33.0   2.18     0  0.472  58.1   3.3700    7  222     18.4   \n",
       "321  0.04301  80.0   1.91     0  0.413  21.9  10.5857    4  334     22.0   \n",
       "447  5.82401   0.0  18.10     0  0.532  64.7   3.4242   24  666     20.2   \n",
       "..       ...   ...    ...   ...    ...   ...      ...  ...  ...      ...   \n",
       "197  0.53700   0.0   6.20     0  0.504  68.1   3.6715    8  307     17.4   \n",
       "254  0.03871  52.5   5.32     0  0.405  31.3   7.3172    6  293     16.6   \n",
       "466  0.17783   0.0   9.69     0  0.585  73.5   2.3999    6  391     19.2   \n",
       "38   0.15876   0.0  10.81     0  0.413  17.5   5.2873    4  305     19.2   \n",
       "452  3.67367   0.0  18.10     0  0.583  51.9   3.9917   24  666     20.2   \n",
       "\n",
       "          B  LSTAT  \n",
       "153  392.63   4.45  \n",
       "259  396.90   4.70  \n",
       "272  393.36   8.93  \n",
       "321  382.80   8.05  \n",
       "447  396.90  10.74  \n",
       "..      ...    ...  \n",
       "197  378.35  11.65  \n",
       "254  396.90   7.14  \n",
       "466  395.77  15.10  \n",
       "38   376.94   9.88  \n",
       "452  388.62  10.58  \n",
       "\n",
       "[378 rows x 12 columns]"
      ]
     },
     "execution_count": 33,
     "metadata": {},
     "output_type": "execute_result"
    }
   ],
   "source": [
    "housing.drop('RM',axis=1)  # Option 2"
   ]
  },
  {
   "cell_type": "code",
   "execution_count": 34,
   "id": "c5cb4713",
   "metadata": {},
   "outputs": [],
   "source": [
    "median = housing['RM'].median()"
   ]
  },
  {
   "cell_type": "code",
   "execution_count": 35,
   "id": "350e6ebf",
   "metadata": {},
   "outputs": [
    {
     "data": {
      "text/plain": [
       "153    7.831\n",
       "259    6.630\n",
       "272    6.616\n",
       "321    5.663\n",
       "447    6.242\n",
       "       ...  \n",
       "197    5.981\n",
       "254    6.209\n",
       "466    5.569\n",
       "38     5.961\n",
       "452    6.312\n",
       "Name: RM, Length: 378, dtype: float64"
      ]
     },
     "execution_count": 35,
     "metadata": {},
     "output_type": "execute_result"
    }
   ],
   "source": [
    "housing['RM'].fillna(median)"
   ]
  },
  {
   "cell_type": "code",
   "execution_count": 36,
   "id": "b3d2096c",
   "metadata": {},
   "outputs": [
    {
     "data": {
      "text/plain": [
       "6.237"
      ]
     },
     "execution_count": 36,
     "metadata": {},
     "output_type": "execute_result"
    }
   ],
   "source": [
    "median"
   ]
  },
  {
   "cell_type": "code",
   "execution_count": 37,
   "id": "9ea8a00e",
   "metadata": {},
   "outputs": [
    {
     "data": {
      "text/plain": [
       "(378, 13)"
      ]
     },
     "execution_count": 37,
     "metadata": {},
     "output_type": "execute_result"
    }
   ],
   "source": [
    "housing.shape"
   ]
  },
  {
   "cell_type": "code",
   "execution_count": 38,
   "id": "36a4fb4f",
   "metadata": {},
   "outputs": [
    {
     "data": {
      "text/plain": [
       "SimpleImputer(strategy='median')"
      ]
     },
     "execution_count": 38,
     "metadata": {},
     "output_type": "execute_result"
    }
   ],
   "source": [
    "from sklearn.impute import SimpleImputer\n",
    "imputer = SimpleImputer(strategy=\"median\")\n",
    "imputer.fit(housing)"
   ]
  },
  {
   "cell_type": "code",
   "execution_count": 39,
   "id": "71825914",
   "metadata": {},
   "outputs": [
    {
     "data": {
      "text/plain": [
       "(13,)"
      ]
     },
     "execution_count": 39,
     "metadata": {},
     "output_type": "execute_result"
    }
   ],
   "source": [
    "imputer.statistics_.shape"
   ]
  },
  {
   "cell_type": "code",
   "execution_count": 40,
   "id": "080c8636",
   "metadata": {},
   "outputs": [],
   "source": [
    "X = imputer.transform(housing)"
   ]
  },
  {
   "cell_type": "code",
   "execution_count": 41,
   "id": "e1e4af9e",
   "metadata": {},
   "outputs": [],
   "source": [
    "housing_tr= pd.DataFrame(X, columns= housing.columns)"
   ]
  },
  {
   "cell_type": "code",
   "execution_count": 42,
   "id": "7e1f6fc2",
   "metadata": {},
   "outputs": [
    {
     "data": {
      "text/html": [
       "<div>\n",
       "<style scoped>\n",
       "    .dataframe tbody tr th:only-of-type {\n",
       "        vertical-align: middle;\n",
       "    }\n",
       "\n",
       "    .dataframe tbody tr th {\n",
       "        vertical-align: top;\n",
       "    }\n",
       "\n",
       "    .dataframe thead th {\n",
       "        text-align: right;\n",
       "    }\n",
       "</style>\n",
       "<table border=\"1\" class=\"dataframe\">\n",
       "  <thead>\n",
       "    <tr style=\"text-align: right;\">\n",
       "      <th></th>\n",
       "      <th>CRIM</th>\n",
       "      <th>ZN</th>\n",
       "      <th>INDUS</th>\n",
       "      <th>CHAS</th>\n",
       "      <th>NOX</th>\n",
       "      <th>RM</th>\n",
       "      <th>AGE</th>\n",
       "      <th>DIS</th>\n",
       "      <th>RAD</th>\n",
       "      <th>TAX</th>\n",
       "      <th>PTRATIO</th>\n",
       "      <th>B</th>\n",
       "      <th>LSTAT</th>\n",
       "    </tr>\n",
       "  </thead>\n",
       "  <tbody>\n",
       "    <tr>\n",
       "      <th>count</th>\n",
       "      <td>378.000000</td>\n",
       "      <td>378.000000</td>\n",
       "      <td>378.000000</td>\n",
       "      <td>378.000000</td>\n",
       "      <td>378.000000</td>\n",
       "      <td>378.000000</td>\n",
       "      <td>378.000000</td>\n",
       "      <td>378.000000</td>\n",
       "      <td>378.000000</td>\n",
       "      <td>378.000000</td>\n",
       "      <td>378.000000</td>\n",
       "      <td>378.000000</td>\n",
       "      <td>378.000000</td>\n",
       "    </tr>\n",
       "    <tr>\n",
       "      <th>mean</th>\n",
       "      <td>3.626624</td>\n",
       "      <td>12.046296</td>\n",
       "      <td>11.350317</td>\n",
       "      <td>0.074074</td>\n",
       "      <td>0.559320</td>\n",
       "      <td>6.314026</td>\n",
       "      <td>67.906349</td>\n",
       "      <td>3.731381</td>\n",
       "      <td>10.124339</td>\n",
       "      <td>417.582011</td>\n",
       "      <td>18.372222</td>\n",
       "      <td>355.101402</td>\n",
       "      <td>12.417778</td>\n",
       "    </tr>\n",
       "    <tr>\n",
       "      <th>std</th>\n",
       "      <td>8.355622</td>\n",
       "      <td>24.380056</td>\n",
       "      <td>6.948071</td>\n",
       "      <td>0.262239</td>\n",
       "      <td>0.122964</td>\n",
       "      <td>0.723799</td>\n",
       "      <td>28.592026</td>\n",
       "      <td>2.130211</td>\n",
       "      <td>8.907297</td>\n",
       "      <td>171.493115</td>\n",
       "      <td>2.123556</td>\n",
       "      <td>93.852038</td>\n",
       "      <td>7.085137</td>\n",
       "    </tr>\n",
       "    <tr>\n",
       "      <th>min</th>\n",
       "      <td>0.009060</td>\n",
       "      <td>0.000000</td>\n",
       "      <td>0.460000</td>\n",
       "      <td>0.000000</td>\n",
       "      <td>0.385000</td>\n",
       "      <td>3.561000</td>\n",
       "      <td>2.900000</td>\n",
       "      <td>1.129600</td>\n",
       "      <td>1.000000</td>\n",
       "      <td>188.000000</td>\n",
       "      <td>12.600000</td>\n",
       "      <td>0.320000</td>\n",
       "      <td>1.730000</td>\n",
       "    </tr>\n",
       "    <tr>\n",
       "      <th>25%</th>\n",
       "      <td>0.082268</td>\n",
       "      <td>0.000000</td>\n",
       "      <td>5.145000</td>\n",
       "      <td>0.000000</td>\n",
       "      <td>0.448000</td>\n",
       "      <td>5.892000</td>\n",
       "      <td>42.450000</td>\n",
       "      <td>2.066825</td>\n",
       "      <td>4.000000</td>\n",
       "      <td>279.000000</td>\n",
       "      <td>17.400000</td>\n",
       "      <td>374.687500</td>\n",
       "      <td>6.877500</td>\n",
       "    </tr>\n",
       "    <tr>\n",
       "      <th>50%</th>\n",
       "      <td>0.261390</td>\n",
       "      <td>0.000000</td>\n",
       "      <td>10.010000</td>\n",
       "      <td>0.000000</td>\n",
       "      <td>0.526000</td>\n",
       "      <td>6.237000</td>\n",
       "      <td>77.500000</td>\n",
       "      <td>3.010650</td>\n",
       "      <td>5.000000</td>\n",
       "      <td>358.000000</td>\n",
       "      <td>18.850000</td>\n",
       "      <td>391.465000</td>\n",
       "      <td>10.610000</td>\n",
       "    </tr>\n",
       "    <tr>\n",
       "      <th>75%</th>\n",
       "      <td>4.251580</td>\n",
       "      <td>19.375000</td>\n",
       "      <td>18.100000</td>\n",
       "      <td>0.000000</td>\n",
       "      <td>0.647000</td>\n",
       "      <td>6.635000</td>\n",
       "      <td>93.750000</td>\n",
       "      <td>5.116700</td>\n",
       "      <td>24.000000</td>\n",
       "      <td>666.000000</td>\n",
       "      <td>20.200000</td>\n",
       "      <td>396.120000</td>\n",
       "      <td>16.462500</td>\n",
       "    </tr>\n",
       "    <tr>\n",
       "      <th>max</th>\n",
       "      <td>88.976200</td>\n",
       "      <td>100.000000</td>\n",
       "      <td>27.740000</td>\n",
       "      <td>1.000000</td>\n",
       "      <td>0.871000</td>\n",
       "      <td>8.780000</td>\n",
       "      <td>100.000000</td>\n",
       "      <td>10.710300</td>\n",
       "      <td>24.000000</td>\n",
       "      <td>711.000000</td>\n",
       "      <td>22.000000</td>\n",
       "      <td>396.900000</td>\n",
       "      <td>36.980000</td>\n",
       "    </tr>\n",
       "  </tbody>\n",
       "</table>\n",
       "</div>"
      ],
      "text/plain": [
       "             CRIM          ZN       INDUS        CHAS         NOX          RM  \\\n",
       "count  378.000000  378.000000  378.000000  378.000000  378.000000  378.000000   \n",
       "mean     3.626624   12.046296   11.350317    0.074074    0.559320    6.314026   \n",
       "std      8.355622   24.380056    6.948071    0.262239    0.122964    0.723799   \n",
       "min      0.009060    0.000000    0.460000    0.000000    0.385000    3.561000   \n",
       "25%      0.082268    0.000000    5.145000    0.000000    0.448000    5.892000   \n",
       "50%      0.261390    0.000000   10.010000    0.000000    0.526000    6.237000   \n",
       "75%      4.251580   19.375000   18.100000    0.000000    0.647000    6.635000   \n",
       "max     88.976200  100.000000   27.740000    1.000000    0.871000    8.780000   \n",
       "\n",
       "              AGE         DIS         RAD         TAX     PTRATIO           B  \\\n",
       "count  378.000000  378.000000  378.000000  378.000000  378.000000  378.000000   \n",
       "mean    67.906349    3.731381   10.124339  417.582011   18.372222  355.101402   \n",
       "std     28.592026    2.130211    8.907297  171.493115    2.123556   93.852038   \n",
       "min      2.900000    1.129600    1.000000  188.000000   12.600000    0.320000   \n",
       "25%     42.450000    2.066825    4.000000  279.000000   17.400000  374.687500   \n",
       "50%     77.500000    3.010650    5.000000  358.000000   18.850000  391.465000   \n",
       "75%     93.750000    5.116700   24.000000  666.000000   20.200000  396.120000   \n",
       "max    100.000000   10.710300   24.000000  711.000000   22.000000  396.900000   \n",
       "\n",
       "            LSTAT  \n",
       "count  378.000000  \n",
       "mean    12.417778  \n",
       "std      7.085137  \n",
       "min      1.730000  \n",
       "25%      6.877500  \n",
       "50%     10.610000  \n",
       "75%     16.462500  \n",
       "max     36.980000  "
      ]
     },
     "execution_count": 42,
     "metadata": {},
     "output_type": "execute_result"
    }
   ],
   "source": [
    "housing_tr.describe()"
   ]
  },
  {
   "cell_type": "markdown",
   "id": "2df162ff",
   "metadata": {},
   "source": [
    "## Scikit-Learn Design"
   ]
  },
  {
   "cell_type": "code",
   "execution_count": 43,
   "id": "6c1bc729",
   "metadata": {},
   "outputs": [],
   "source": [
    "from sklearn.pipeline import Pipeline\n",
    "from sklearn.preprocessing import StandardScaler\n",
    "my_pipeline = Pipeline([('imputer', SimpleImputer(strategy=\"median\")),\n",
    "                        ('std_scaler', StandardScaler()),\n",
    "                       ])"
   ]
  },
  {
   "cell_type": "code",
   "execution_count": 44,
   "id": "efecf760",
   "metadata": {},
   "outputs": [],
   "source": [
    "housing_num_tr= my_pipeline.fit_transform(housing)"
   ]
  },
  {
   "cell_type": "code",
   "execution_count": 45,
   "id": "e29bd37b",
   "metadata": {},
   "outputs": [
    {
     "data": {
      "text/plain": [
       "array([[-0.42789585, -0.49475942, -1.28123336, ..., -0.26982125,\n",
       "         0.4003998 , -1.12606693],\n",
       "       [-0.43027704,  2.79096035, -0.92238553, ...,  0.39032395,\n",
       "         0.44595725, -1.09073503],\n",
       "       [-0.42804325,  0.86059998, -1.32158572, ...,  0.01309812,\n",
       "         0.40818831, -0.49291927],\n",
       "       ...,\n",
       "       [-0.41329832, -0.49475942, -0.23927763, ...,  0.39032395,\n",
       "         0.43390107,  0.37907204],\n",
       "       [-0.41558364, -0.49475942, -0.07786817, ...,  0.39032395,\n",
       "         0.23300019, -0.35865805],\n",
       "       [ 0.00563796, -0.49475942,  0.97273449, ...,  0.86185623,\n",
       "         0.35761635, -0.25972873]])"
      ]
     },
     "execution_count": 45,
     "metadata": {},
     "output_type": "execute_result"
    }
   ],
   "source": [
    "housing_num_tr"
   ]
  },
  {
   "cell_type": "code",
   "execution_count": 46,
   "id": "a7180963",
   "metadata": {},
   "outputs": [
    {
     "data": {
      "text/plain": [
       "(378, 13)"
      ]
     },
     "execution_count": 46,
     "metadata": {},
     "output_type": "execute_result"
    }
   ],
   "source": [
    "housing_num_tr.shape"
   ]
  },
  {
   "cell_type": "code",
   "execution_count": 47,
   "id": "4e9f1e60",
   "metadata": {},
   "outputs": [
    {
     "data": {
      "text/plain": [
       "RandomForestRegressor()"
      ]
     },
     "execution_count": 47,
     "metadata": {},
     "output_type": "execute_result"
    }
   ],
   "source": [
    "from sklearn.linear_model import LinearRegression\n",
    "from sklearn.tree import DecisionTreeRegressor\n",
    "from sklearn.ensemble import RandomForestRegressor\n",
    "#model= LinearRegression()\n",
    "#model= DecisionTreeRegressor()\n",
    "model= RandomForestRegressor()\n",
    "model.fit(housing_num_tr,housing_labels)"
   ]
  },
  {
   "cell_type": "code",
   "execution_count": 48,
   "id": "e42fd14a",
   "metadata": {},
   "outputs": [],
   "source": [
    "some_data = housing.iloc[:5]"
   ]
  },
  {
   "cell_type": "code",
   "execution_count": 49,
   "id": "773175fa",
   "metadata": {},
   "outputs": [],
   "source": [
    "some_labels = housing_labels.iloc[:5]"
   ]
  },
  {
   "cell_type": "code",
   "execution_count": 50,
   "id": "5886a7dc",
   "metadata": {},
   "outputs": [],
   "source": [
    "prepared_data= my_pipeline.transform(some_data)"
   ]
  },
  {
   "cell_type": "code",
   "execution_count": 51,
   "id": "033271c5",
   "metadata": {},
   "outputs": [
    {
     "data": {
      "text/plain": [
       "array([46.853, 27.938, 28.309, 18.805, 22.197])"
      ]
     },
     "execution_count": 51,
     "metadata": {},
     "output_type": "execute_result"
    }
   ],
   "source": [
    "model.predict(prepared_data)"
   ]
  },
  {
   "cell_type": "code",
   "execution_count": 52,
   "id": "a6dfb9e5",
   "metadata": {},
   "outputs": [
    {
     "data": {
      "text/plain": [
       "[50.0, 27.9, 28.4, 18.2, 23.0]"
      ]
     },
     "execution_count": 52,
     "metadata": {},
     "output_type": "execute_result"
    }
   ],
   "source": [
    "list(some_labels)"
   ]
  },
  {
   "cell_type": "markdown",
   "id": "b965abba",
   "metadata": {},
   "source": [
    "## Evaluating the model"
   ]
  },
  {
   "cell_type": "code",
   "execution_count": 53,
   "id": "c415b565",
   "metadata": {},
   "outputs": [],
   "source": [
    "from sklearn.metrics import mean_squared_error\n",
    "housing_predictions = model.predict(housing_num_tr)\n",
    "mse = mean_squared_error(housing_labels, housing_predictions)\n",
    "rmse = np.sqrt(mse)"
   ]
  },
  {
   "cell_type": "code",
   "execution_count": 54,
   "id": "90a1a688",
   "metadata": {},
   "outputs": [
    {
     "data": {
      "text/plain": [
       "1.375741504727791"
      ]
     },
     "execution_count": 54,
     "metadata": {},
     "output_type": "execute_result"
    }
   ],
   "source": [
    "rmse"
   ]
  },
  {
   "cell_type": "markdown",
   "id": "dbe43c83",
   "metadata": {},
   "source": [
    "## Using better evaluation technique like cross validation to overcome overfitting."
   ]
  },
  {
   "cell_type": "code",
   "execution_count": 55,
   "id": "fb4a4fe1",
   "metadata": {},
   "outputs": [],
   "source": [
    "from sklearn.model_selection import cross_val_score\n",
    "scores = cross_val_score(model,housing_num_tr,housing_labels,scoring=\"neg_mean_squared_error\",cv=10)\n",
    "rmse_scores=np.sqrt(-scores)"
   ]
  },
  {
   "cell_type": "code",
   "execution_count": 56,
   "id": "a5fb3d40",
   "metadata": {},
   "outputs": [
    {
     "data": {
      "text/plain": [
       "array([4.65633739, 3.06021721, 2.2264005 , 3.05554288, 2.87061569,\n",
       "       4.66237861, 4.62575037, 3.65275063, 3.15689011, 1.77006347])"
      ]
     },
     "execution_count": 56,
     "metadata": {},
     "output_type": "execute_result"
    }
   ],
   "source": [
    "rmse_scores"
   ]
  },
  {
   "cell_type": "code",
   "execution_count": 57,
   "id": "bd19c06e",
   "metadata": {},
   "outputs": [],
   "source": [
    "def print_scores(scores):\n",
    "    print(\"Scores: \",scores)\n",
    "    print(\"Mean: \",scores.mean())\n",
    "    print(\"Standard Deviation \",scores.std())"
   ]
  },
  {
   "cell_type": "code",
   "execution_count": 58,
   "id": "b87a762c",
   "metadata": {},
   "outputs": [
    {
     "name": "stdout",
     "output_type": "stream",
     "text": [
      "Scores:  [4.65633739 3.06021721 2.2264005  3.05554288 2.87061569 4.66237861\n",
      " 4.62575037 3.65275063 3.15689011 1.77006347]\n",
      "Mean:  3.373694684854064\n",
      "Standard Deviation  0.9663794608922414\n"
     ]
    }
   ],
   "source": [
    "print_scores(rmse_scores)"
   ]
  },
  {
   "cell_type": "code",
   "execution_count": 59,
   "id": "a08382fc",
   "metadata": {},
   "outputs": [
    {
     "data": {
      "text/plain": [
       "['Dragon.joblib']"
      ]
     },
     "execution_count": 59,
     "metadata": {},
     "output_type": "execute_result"
    }
   ],
   "source": [
    "from joblib import dump,load\n",
    "dump(model,'Dragon.joblib')"
   ]
  },
  {
   "cell_type": "markdown",
   "id": "4028e89a",
   "metadata": {},
   "source": [
    "## Testing of Model on Test Data"
   ]
  },
  {
   "cell_type": "code",
   "execution_count": 60,
   "id": "1ac47f46",
   "metadata": {},
   "outputs": [],
   "source": [
    "X_test = strat_test_set.drop(\"MEDV\",axis=1)\n",
    "Y_test = strat_test_set[\"MEDV\"].copy()\n",
    "X_test_prepared = my_pipeline.transform(X_test)\n",
    "final_predictions = model.predict(X_test_prepared)\n",
    "final_mse = mean_squared_error(Y_test, final_predictions)\n",
    "final_rmse=np.sqrt(final_mse)"
   ]
  },
  {
   "cell_type": "code",
   "execution_count": 61,
   "id": "1158b7ad",
   "metadata": {},
   "outputs": [
    {
     "data": {
      "text/plain": [
       "3.127632301042805"
      ]
     },
     "execution_count": 61,
     "metadata": {},
     "output_type": "execute_result"
    }
   ],
   "source": [
    "final_rmse"
   ]
  },
  {
   "cell_type": "code",
   "execution_count": 62,
   "id": "54cdbec8",
   "metadata": {},
   "outputs": [
    {
     "data": {
      "text/plain": [
       "array([-0.42789585, -0.49475942, -1.28123336, -0.28284271, -0.58077357,\n",
       "        2.09862681, -0.50102468, -0.25015667, -0.80089181, -1.31130435,\n",
       "       -0.26982125,  0.4003998 , -1.12606693])"
      ]
     },
     "execution_count": 62,
     "metadata": {},
     "output_type": "execute_result"
    }
   ],
   "source": [
    "prepared_data[0]"
   ]
  },
  {
   "cell_type": "markdown",
   "id": "cb250731",
   "metadata": {},
   "source": [
    "## Using the model"
   ]
  },
  {
   "cell_type": "code",
   "execution_count": 65,
   "id": "64f458ca",
   "metadata": {},
   "outputs": [
    {
     "data": {
      "text/plain": [
       "array([44.936])"
      ]
     },
     "execution_count": 65,
     "metadata": {},
     "output_type": "execute_result"
    }
   ],
   "source": [
    "from joblib import dump,load\n",
    "import numpy as np\n",
    "model= load('Dragon.joblib')\n",
    "features= np.array([[-0.42789585, -0.49475942, -1.28123336, -0.28284271, -0.58077357,\n",
    "        10.09862681, -0.50102468, -0.25015667, -0.80089181, -1.31130435,\n",
    "       -0.26982125,  0.4003998 , -1.12606693]])\n",
    "model.predict(features)"
   ]
  },
  {
   "cell_type": "code",
   "execution_count": null,
   "id": "4cf0241d",
   "metadata": {},
   "outputs": [],
   "source": []
  }
 ],
 "metadata": {
  "kernelspec": {
   "display_name": "Python 3 (ipykernel)",
   "language": "python",
   "name": "python3"
  },
  "language_info": {
   "codemirror_mode": {
    "name": "ipython",
    "version": 3
   },
   "file_extension": ".py",
   "mimetype": "text/x-python",
   "name": "python",
   "nbconvert_exporter": "python",
   "pygments_lexer": "ipython3",
   "version": "3.9.6"
  }
 },
 "nbformat": 4,
 "nbformat_minor": 5
}
